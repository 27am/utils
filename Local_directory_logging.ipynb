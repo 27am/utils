{
 "cells": [
  {
   "cell_type": "code",
   "execution_count": 3,
   "metadata": {},
   "outputs": [],
   "source": [
    "import logging\n",
    "import os\n",
    "import time\n",
    "\n",
    "# function that help instantiating the logger. it requires the name of the log\n",
    "def logger_setup(log_name):\n",
    "    \n",
    "    logger = logging.getLogger()\n",
    "    logger.setLevel(logging.INFO)\n",
    "    \n",
    "    handler = logging.FileHandler(log_name)\n",
    "    formatter = logging.Formatter(\"%(asctime)s %(levelname)s %(message)s\")\n",
    "    \n",
    "    handler.setFormatter(formatter)\n",
    "    logger.addHandler(handler)\n",
    "    \n",
    "    return logger\n",
    "\n",
    "    \n",
    "l = logger_setup(\"fileshistory.log\")\n",
    "\n",
    "# for everything in the current directory we log the creation and last modification time\n",
    "for obj in os.listdir():\n",
    "    l.info(\"FILEHISTORY \"    + os.path.abspath(\".\") + \"\\\\\" + obj +   \n",
    "            \" CREATION \"     + time.ctime(os.path.getctime(obj)) +\n",
    "            \" MODIFICATION \" + time.ctime(os.path.getmtime(obj)))"
   ]
  },
  {
   "cell_type": "code",
   "execution_count": null,
   "metadata": {},
   "outputs": [],
   "source": []
  }
 ],
 "metadata": {
  "kernelspec": {
   "display_name": "Python 3",
   "language": "python",
   "name": "python3"
  },
  "language_info": {
   "codemirror_mode": {
    "name": "ipython",
    "version": 3
   },
   "file_extension": ".py",
   "mimetype": "text/x-python",
   "name": "python",
   "nbconvert_exporter": "python",
   "pygments_lexer": "ipython3",
   "version": "3.6.6"
  }
 },
 "nbformat": 4,
 "nbformat_minor": 2
}
